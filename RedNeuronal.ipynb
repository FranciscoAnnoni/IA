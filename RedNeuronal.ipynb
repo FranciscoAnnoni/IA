{
  "nbformat": 4,
  "nbformat_minor": 0,
  "metadata": {
    "colab": {
      "private_outputs": true,
      "provenance": [],
      "gpuType": "T4",
      "authorship_tag": "ABX9TyOpibkAEzS/GpOw/hqCsph6",
      "include_colab_link": true
    },
    "kernelspec": {
      "name": "python3",
      "display_name": "Python 3"
    },
    "language_info": {
      "name": "python"
    },
    "accelerator": "GPU",
    "gpuClass": "standard"
  },
  "cells": [
    {
      "cell_type": "markdown",
      "metadata": {
        "id": "view-in-github",
        "colab_type": "text"
      },
      "source": [
        "<a href=\"https://colab.research.google.com/github/FranciscoAnnoni/IA/blob/main/RedNeuronal.ipynb\" target=\"_parent\"><img src=\"https://colab.research.google.com/assets/colab-badge.svg\" alt=\"Open In Colab\"/></a>"
      ]
    },
    {
      "cell_type": "code",
      "execution_count": null,
      "metadata": {
        "id": "EixIqAwN1Kuh"
      },
      "outputs": [],
      "source": [
        "# install kaggle \n",
        "!pip install -q kaggle "
      ]
    },
    {
      "cell_type": "code",
      "source": [
        "from google.colab import files \n",
        "files.upload()"
      ],
      "metadata": {
        "id": "cXDSqAmx1W9k"
      },
      "execution_count": null,
      "outputs": []
    },
    {
      "cell_type": "code",
      "source": [
        "!mkdir ~/.kaggle\n",
        "!cp kaggle.json ~/.kaggle/\n",
        "!chmod 600 ~/.kaggle/kaggle.json\n",
        "!kaggle datasets download -d franciscoannoni/caracters"
      ],
      "metadata": {
        "id": "YUMOMIGI1xKD"
      },
      "execution_count": null,
      "outputs": []
    },
    {
      "cell_type": "code",
      "execution_count": null,
      "metadata": {
        "id": "QyPa6U0hxz85"
      },
      "outputs": [],
      "source": [
        "!unzip caracters.zip\n",
        "!mkdir Midataset\n",
        "\n",
        "%cd Midataset\n",
        "!mkdir latino\n",
        "!mkdir koreano\n",
        "%cd .."
      ]
    },
    {
      "cell_type": "code",
      "source": [
        "!kaggle datasets download -d joonasyoon/charkor\n",
        "!unzip charkor.zip"
      ],
      "metadata": {
        "id": "vYWX4Oxs4ECh"
      },
      "execution_count": null,
      "outputs": []
    },
    {
      "cell_type": "code",
      "source": [
        "from tensorflow.keras import datasets, layers, models\n",
        "import numpy as np\n",
        "import tensorflow as tf\n",
        "import shutil\n",
        "import os\n",
        "\n",
        "# Eliminar la subcarpeta .ipynb_checkpoints\n",
        "checkpoints_folder = '/content/Midataset/.ipynb_checkpoints'\n",
        "if os.path.exists(checkpoints_folder):\n",
        "    shutil.rmtree(checkpoints_folder)\n",
        "\n",
        "\n",
        "class_names = [\"koreano\", \"latino\"]\n",
        "\n",
        "# Generadores para sets de entrenamiento y pruebas\n",
        "data_gen_entrenamiento = tf.keras.utils.image_dataset_from_directory(\n",
        "    '/content/Midataset',\n",
        "    validation_split=0.2,\n",
        "    subset=\"training\",\n",
        "    color_mode='grayscale',\n",
        "    seed=123,\n",
        "    image_size=(250, 250),\n",
        "    shuffle=True,\n",
        "    batch_size=35,\n",
        "    class_names=class_names\n",
        ")\n",
        "\n",
        "data_gen_validacion = tf.keras.utils.image_dataset_from_directory(\n",
        "    '/content/Midataset',\n",
        "    validation_split=0.2,\n",
        "    subset=\"validation\",\n",
        "    color_mode='grayscale',\n",
        "    seed=123,\n",
        "    image_size=(250, 250),\n",
        "    shuffle=True,\n",
        "    batch_size=35,\n",
        "    class_names=class_names\n",
        ")"
      ],
      "metadata": {
        "id": "CcCmCgaJ4RSd"
      },
      "execution_count": null,
      "outputs": []
    },
    {
      "cell_type": "code",
      "execution_count": null,
      "metadata": {
        "id": "aDtKPPCG_wfm"
      },
      "outputs": [],
      "source": [
        "#Imprimir 10 imagenes del generador de entrenamiento\n",
        "import matplotlib.pyplot as plt\n",
        "class_names = data_gen_entrenamiento.class_names\n",
        "print(class_names)\n",
        "plt.figure(figsize=(5, 5))\n",
        "for images, labels in data_gen_entrenamiento.take(1):\n",
        "    for i in range(10):\n",
        "        ax = plt.subplot(5, 5, i + 1)\n",
        "        plt.imshow(images[i].numpy().astype(\"uint8\"), cmap='gray')\n",
        "        plt.xlabel(class_names[labels[i]])\n",
        "        plt.show()\n"
      ]
    },
    {
      "cell_type": "code",
      "source": [
        "modeloCNN2 = tf.keras.models.Sequential([\n",
        "  tf.keras.layers.Conv2D(32, (3,3), activation='relu', input_shape=(250,250, 1)),\n",
        "  tf.keras.layers.MaxPooling2D(2, 2),\n",
        "  tf.keras.layers.Conv2D(64, (3,3), activation='relu'),\n",
        "  tf.keras.layers.MaxPooling2D(2, 2),\n",
        "  tf.keras.layers.Conv2D(128, (3,3), activation='relu'),\n",
        "  tf.keras.layers.MaxPooling2D(2, 2),\n",
        "\n",
        "  tf.keras.layers.Dropout(0.5),\n",
        "  tf.keras.layers.Flatten(),\n",
        "  tf.keras.layers.Dense(250, activation='relu'),\n",
        "  tf.keras.layers.Dense(2, activation='softmax')\n",
        "])\n",
        "modeloCNN2.compile(optimizer='adam',\n",
        "                    loss='sparse_categorical_crossentropy',\n",
        "                    metrics=['accuracy'])\n",
        "\n",
        "historial=modeloCNN2.fit(data_gen_entrenamiento,epochs=2,batch_size=32,validation_data=data_gen_validacion)\n",
        "finalModel = modeloCNN2.save(\"finalModel\")"
      ],
      "metadata": {
        "id": "u9FOHdo_9thx"
      },
      "execution_count": null,
      "outputs": []
    },
    {
      "cell_type": "code",
      "source": [
        "import cv2\n",
        "import numpy as np\n",
        "import tensorflow as tf\n",
        "import cv2\n",
        "from PIL import Image\n",
        "\n",
        "model = tf.keras.models.load_model('finalModel')\n",
        "\n",
        "img = Image.open('/content/w.jpg')\n",
        "img = np.array(img).astype(float)/255\n",
        "img = cv2.resize(img, (250,250))\n",
        "img = img.reshape(-1, 250, 250, 1)\n",
        "\n",
        "predictions = model.predict(img)\n",
        "resultado =np.argmax(predictions[0])\n",
        "\n",
        "print(predictions)\n",
        "print(resultado)\n",
        "if resultado == 1:\n",
        "  print(\"El caracter no es Koreano\")\n",
        "else:\n",
        "  print(\"El caracter es del tipo \" + \"'\" + class_names[resultado] +\"'\")\n",
        "\n"
      ],
      "metadata": {
        "id": "8Pj9QcoVCydp"
      },
      "execution_count": null,
      "outputs": []
    },
    {
      "cell_type": "code",
      "source": [],
      "metadata": {
        "id": "4NMDgUEWJksN"
      },
      "execution_count": null,
      "outputs": []
    }
  ]
}